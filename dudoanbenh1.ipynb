{
  "nbformat": 4,
  "nbformat_minor": 0,
  "metadata": {
    "colab": {
      "name": "dudoanbenh1",
      "provenance": [],
      "authorship_tag": "ABX9TyOEqh+StgRGJmlBP8FiUORy",
      "include_colab_link": true
    },
    "kernelspec": {
      "name": "python3",
      "display_name": "Python 3"
    },
    "language_info": {
      "name": "python"
    }
  },
  "cells": [
    {
      "cell_type": "markdown",
      "metadata": {
        "id": "view-in-github",
        "colab_type": "text"
      },
      "source": [
        "<a href=\"https://colab.research.google.com/github/noinoivip911/begin/blob/main/dudoanbenh1.ipynb\" target=\"_parent\"><img src=\"https://colab.research.google.com/assets/colab-badge.svg\" alt=\"Open In Colab\"/></a>"
      ]
    },
    {
      "cell_type": "code",
      "metadata": {
        "colab": {
          "base_uri": "https://localhost:8080/"
        },
        "id": "PrxtiuQXUhg_",
        "outputId": "712b7235-4abd-425a-8373-fa42dd787006"
      },
      "source": [
        "from sklearn import tree\n",
        "my_tree = tree.DecisionTreeClassifier()\n",
        "dactrung = [ [1,3,3,7],\n",
        "            [5,2,4,6],\n",
        "            [1,2,4,6],\n",
        "            [5,4,4,3],\n",
        "            [1,4,4,7],\n",
        "            [3,2,3,7],\n",
        "            [3,3,3,6],\n",
        "            [5,2,2,7],\n",
        "\n",
        "        ]\n",
        "nhan = [0,1,1,0,0,0,0,1]\n",
        "result = my_tree.fit(dactrung,nhan)\n",
        "kq=result.predict([[1,4,3,7]])\n",
        "print (kq)\n"
      ],
      "execution_count": 8,
      "outputs": [
        {
          "output_type": "stream",
          "text": [
            "[0]\n"
          ],
          "name": "stdout"
        }
      ]
    }
  ]
}