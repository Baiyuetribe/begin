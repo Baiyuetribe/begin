{
  "nbformat": 4,
  "nbformat_minor": 0,
  "metadata": {
    "colab": {
      "name": "baitap matplotlib ",
      "provenance": [],
      "authorship_tag": "ABX9TyOj0Ght25Zc6Dedvs4InTsH",
      "include_colab_link": true
    },
    "kernelspec": {
      "name": "python3",
      "display_name": "Python 3"
    },
    "language_info": {
      "name": "python"
    }
  },
  "cells": [
    {
      "cell_type": "markdown",
      "metadata": {
        "id": "view-in-github",
        "colab_type": "text"
      },
      "source": [
        "<a href=\"https://colab.research.google.com/github/noinoivip911/begin/blob/main/baitap_matplotlib.ipynb\" target=\"_parent\"><img src=\"https://colab.research.google.com/assets/colab-badge.svg\" alt=\"Open In Colab\"/></a>"
      ]
    },
    {
      "cell_type": "code",
      "metadata": {
        "colab": {
          "base_uri": "https://localhost:8080/",
          "height": 282
        },
        "id": "uKNXwh4ZWHbW",
        "outputId": "e01ed918-8777-46fa-936a-b542ca80c009"
      },
      "source": [
        "x=[57,10]\n",
        "y=[56.3,9]\n",
        "z=[55.7,8]\n",
        "m=[55.9,7]\n",
        "n=[55.4,4]\n",
        "l=[55.5,3]\n",
        "import matplotlib.pyplot as plt\n",
        "plt.plot (x,y,z,m,n,l)\n",
        "plt.show "
      ],
      "execution_count": 2,
      "outputs": [
        {
          "output_type": "execute_result",
          "data": {
            "text/plain": [
              "<function matplotlib.pyplot.show>"
            ]
          },
          "metadata": {
            "tags": []
          },
          "execution_count": 2
        },
        {
          "output_type": "display_data",
          "data": {
            "image/png": "[encoded data removed]",
            "text/plain": [
              "<Figure size 432x288 with 1 Axes>"
            ]
          },
          "metadata": {
            "tags": [],
            "needs_background": "light"
          }
        }
      ]
    }
  ]
}